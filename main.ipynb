{
 "cells": [
  {
   "cell_type": "code",
   "execution_count": 1,
   "metadata": {},
   "outputs": [],
   "source": [
    "import hook \n",
    "import database_handler  \n",
    "import pandas as pd\n",
    "import lookups\n",
    "import data_handler\n",
    "import prehook\n",
    "\n",
    " \n"
   ]
  },
  {
   "cell_type": "code",
   "execution_count": 2,
   "metadata": {},
   "outputs": [
    {
     "name": "stdout",
     "output_type": "stream",
     "text": [
      "V1__prehook_create_schema.sql\n",
      "V2__prehook_create_etl_table.sql\n",
      "none None\n",
      "table name: stg_countries_kaggle   True\n",
      "none None\n",
      "table name: stg_avg_temperature_kaggle   True\n",
      "none None\n",
      "table name: stg_prevalence_of_undernourishment_OurWorldInData   True\n",
      "none None\n",
      "table name: stg_disaster_types_manual   True\n",
      "none None\n",
      "table name: stg_gdp_UNdata   True\n",
      "none None\n",
      "table name: stg_world_population_kaggle   True\n",
      "none None\n",
      "table name: stg_natural_disasters_emdat   True\n",
      "none None\n",
      "table name: stg_disaster_magnitude_manual   True\n",
      "none None\n",
      "table name: stg_worldcities_Simplemaps   True\n",
      "none None\n",
      "table name: stg_share_without_improved_water_kaggle   True\n",
      "none None\n",
      "table name: stg_valuable_country_data_OECD   True\n",
      "none None\n",
      "table name: stg_continents_manual   True\n",
      "none None\n",
      "table name: stg_magnitude_scale_manual   True\n",
      "none None\n",
      "table name: stg_subregions_manual   True\n"
     ]
    }
   ],
   "source": [
    "\n",
    "prehook.create_staging_tables()\n"
   ]
  },
  {
   "cell_type": "code",
   "execution_count": 3,
   "metadata": {},
   "outputs": [
    {
     "name": "stderr",
     "output_type": "stream",
     "text": [
      "ERROR:root:An error occurred: relation \"dwreporting.fct_disaster_magnitude\" does not exist\n",
      "LINE 1: INSERT INTO \"dwreporting\".\"fct_disaster_magnitude\" (\"disaste...\n",
      "                    ^\n",
      "\n",
      "ERROR:root:An error occurred: relation \"dwreporting.fct_subregion\" does not exist\n",
      "LINE 1: INSERT INTO dwreporting.fct_subregion (\n",
      "                    ^\n",
      "\n",
      "ERROR:root:An error occurred: relation \"dwreporting.fct_population\" does not exist\n",
      "LINE 1: INSERT INTO \"dwreporting\".\"fct_population\" (\"country_name\", ...\n",
      "                    ^\n",
      "\n",
      "ERROR:root:An error occurred: relation \"dwreporting.fct_country_details\" does not exist\n",
      "LINE 1: INSERT INTO dwreporting.fct_country_details (\n",
      "                    ^\n",
      "\n",
      "ERROR:root:An error occurred: relation \"dwreporting.fct_disasters\" does not exist\n",
      "LINE 1: INSERT INTO dwreporting.fct_disasters (\n",
      "                    ^\n",
      "\n",
      "ERROR:root:An error occurred: relation \"dwreporting.fct_country_details\" does not exist\n",
      "LINE 88:     dwreporting.fct_country_details fcd\n",
      "             ^\n",
      "\n",
      "ERROR:root:An error occurred: relation \"dwreporting.fct_country_details\" does not exist\n",
      "LINE 106:     dwreporting.fct_country_details fcd\n",
      "              ^\n",
      "\n",
      "ERROR:root:An error occurred: relation \"dwreporting.fct_subregion\" does not exist\n",
      "LINE 74:     dwreporting.fct_subregion fcs\n",
      "             ^\n",
      "\n"
     ]
    },
    {
     "name": "stdout",
     "output_type": "stream",
     "text": [
      "V10_hook_create_fct_disaster_magnitude.sql\n",
      "2023-12-14 07:27:04.985576 - Failed to connect to database (database_handler.py) ##### relation \"dwreporting.fct_disaster_magnitude\" does not exist\n",
      "LINE 1: INSERT INTO \"dwreporting\".\"fct_disaster_magnitude\" (\"disaste...\n",
      "                    ^\n",
      "\n",
      "V11_hook_create_fct_subregion.sql\n",
      "2023-12-14 07:27:04.986570 - Failed to connect to database (database_handler.py) ##### relation \"dwreporting.fct_subregion\" does not exist\n",
      "LINE 1: INSERT INTO dwreporting.fct_subregion (\n",
      "                    ^\n",
      "\n",
      "V12_hook_create_fct_population.sql\n",
      "2023-12-14 07:27:04.988569 - Failed to connect to database (database_handler.py) ##### relation \"dwreporting.fct_population\" does not exist\n",
      "LINE 1: INSERT INTO \"dwreporting\".\"fct_population\" (\"country_name\", ...\n",
      "                    ^\n",
      "\n",
      "V13_hook_create_fct_country_details.sql\n",
      "2023-12-14 07:27:04.991572 - Failed to connect to database (database_handler.py) ##### relation \"dwreporting.fct_country_details\" does not exist\n",
      "LINE 1: INSERT INTO dwreporting.fct_country_details (\n",
      "                    ^\n",
      "\n",
      "V14_hook_create_fct_disasters.sql\n",
      "2023-12-14 07:27:04.992568 - Failed to connect to database (database_handler.py) ##### relation \"dwreporting.fct_disasters\" does not exist\n",
      "LINE 1: INSERT INTO dwreporting.fct_disasters (\n",
      "                    ^\n",
      "\n",
      "V15_hook_agg_country_per_year.sql\n",
      "2023-12-14 07:27:05.049573 - Failed to connect to database (database_handler.py) ##### relation \"dwreporting.fct_country_details\" does not exist\n",
      "LINE 88:     dwreporting.fct_country_details fcd\n",
      "             ^\n",
      "\n",
      "v16_hook_agg_country_avg_summary.sql\n",
      "2023-12-14 07:27:05.102565 - Failed to connect to database (database_handler.py) ##### relation \"dwreporting.fct_country_details\" does not exist\n",
      "LINE 106:     dwreporting.fct_country_details fcd\n",
      "              ^\n",
      "\n",
      "V17_hook_agg_subregion_per_year.sql\n",
      "2023-12-14 07:27:05.179568 - Failed to connect to database (database_handler.py) ##### relation \"dwreporting.fct_subregion\" does not exist\n",
      "LINE 74:     dwreporting.fct_subregion fcs\n",
      "             ^\n",
      "\n"
     ]
    },
    {
     "name": "stderr",
     "output_type": "stream",
     "text": [
      "ERROR:root:An error occurred: relation \"dwreporting.fct_subregion\" does not exist\n",
      "LINE 84:     dwreporting.fct_subregion fcs\n",
      "             ^\n",
      "\n"
     ]
    },
    {
     "name": "stdout",
     "output_type": "stream",
     "text": [
      "v18_hook_agg_subregion_avg_summary.sql\n",
      "2023-12-14 07:27:05.235571 - Failed to connect to database (database_handler.py) ##### relation \"dwreporting.fct_subregion\" does not exist\n",
      "LINE 84:     dwreporting.fct_subregion fcs\n",
      "             ^\n",
      "\n",
      "V3__hook_dim_fact.sql\n",
      "V4_hook_create_dim_continent.sql\n",
      "V5_hook_create_dim_subregion.sql\n",
      "V6_hook_create_dim_country.sql\n",
      "V7_hook_create_dim_city.sql\n",
      "V8_hook_create_dim_disaster.sql\n",
      "V9_hook_create_dim_magnitude_scale.sql\n"
     ]
    }
   ],
   "source": [
    "hook.execute()"
   ]
  }
 ],
 "metadata": {
  "kernelspec": {
   "display_name": "usj_data_project_2023",
   "language": "python",
   "name": "python3"
  },
  "language_info": {
   "codemirror_mode": {
    "name": "ipython",
    "version": 3
   },
   "file_extension": ".py",
   "mimetype": "text/x-python",
   "name": "python",
   "nbconvert_exporter": "python",
   "pygments_lexer": "ipython3",
   "version": "3.9.13"
  }
 },
 "nbformat": 4,
 "nbformat_minor": 2
}
