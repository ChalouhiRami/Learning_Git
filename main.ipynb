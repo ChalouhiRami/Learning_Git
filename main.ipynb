{
 "cells": [
  {
   "cell_type": "code",
   "execution_count": 3,
   "metadata": {},
   "outputs": [],
   "source": [
    "from hook import execute\n",
    "import database_handler  \n",
    "import pandas as pd\n",
    "import lookups\n",
    "import data_handler\n",
    "import prehook\n",
    "\n",
    " \n"
   ]
  },
  {
   "cell_type": "code",
   "execution_count": 4,
   "metadata": {},
   "outputs": [
    {
     "name": "stderr",
     "output_type": "stream",
     "text": [
      "ERROR:root:An error occurred: relation \"unique_table_name\" already exists\n",
      "\n"
     ]
    },
    {
     "name": "stdout",
     "output_type": "stream",
     "text": [
      "V1__prehook_create_schema.sql\n",
      "V2__prehook_create_etl_table.sql\n",
      "2023-12-04 10:36:12.835444 - Failed to connect to database (database_handler.py) ##### relation \"unique_table_name\" already exists\n",
      "\n",
      "No new or updated records found.\n",
      "No new or updated records found.\n"
     ]
    }
   ],
   "source": [
    "\n",
    "prehook.create_staging_tables()"
   ]
  }
 ],
 "metadata": {
  "kernelspec": {
   "display_name": "usj_data_project_2023",
   "language": "python",
   "name": "python3"
  },
  "language_info": {
   "codemirror_mode": {
    "name": "ipython",
    "version": 3
   },
   "file_extension": ".py",
   "mimetype": "text/x-python",
   "name": "python",
   "nbconvert_exporter": "python",
   "pygments_lexer": "ipython3",
   "version": "3.12.0"
  }
 },
 "nbformat": 4,
 "nbformat_minor": 2
}
