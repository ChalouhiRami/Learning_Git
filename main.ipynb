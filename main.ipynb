{
 "cells": [
  {
   "cell_type": "code",
   "execution_count": 1,
   "metadata": {},
   "outputs": [],
   "source": [
    "from hook import execute\n",
    "import  database_handler  \n",
    "import pandas as pd\n",
    "import lookups\n",
    "from data_handler import read_data_as_dataframe\n",
    "from read_datasets import read_dataset_and_return_as_df\n"
   ]
  },
  {
   "cell_type": "code",
   "execution_count": 4,
   "metadata": {},
   "outputs": [
    {
     "name": "stdout",
     "output_type": "stream",
     "text": [
      "DataFrame for countries:\n",
      "     Country_Territory   Rank Code           Capital Continent  Population  \\\n",
      "0          Afghanistan   36.0  AFG             Kabul      Asia    41128771   \n",
      "1              Albania  138.0  ALB            Tirana    Europe     2842321   \n",
      "2              Algeria   34.0  DZA           Algiers    Africa    44903225   \n",
      "3       American Samoa  213.0  ASM         Pago Pago   Oceania       44273   \n",
      "4              Andorra  203.0  AND  Andorra la Vella    Europe       79824   \n",
      "..                 ...    ...  ...               ...       ...         ...   \n",
      "229  Wallis and Futuna  226.0  WLF          Mata-Utu   Oceania       11572   \n",
      "230     Western Sahara  172.0  ESH         El AaiÃºn    Africa      575986   \n",
      "231              Yemen   46.0  YEM             Sanaa      Asia    33696614   \n",
      "232             Zambia   63.0  ZMB            Lusaka    Africa    20017675   \n",
      "233           Zimbabwe   74.0  ZWE            Harare    Africa    16320537   \n",
      "\n",
      "     Area_per_km²  Density_per_km²  Growth_Rate  \n",
      "0          652230          63.0587       1.0257  \n",
      "1           28748          98.8702       0.9957  \n",
      "2         2381741          18.8531       1.0164  \n",
      "3             199         222.4774       0.9831  \n",
      "4             468         170.5641       1.0100  \n",
      "..            ...              ...          ...  \n",
      "229           142          81.4930       0.9953  \n",
      "230        266000           2.1654       1.0184  \n",
      "231        527968          63.8232       1.0217  \n",
      "232        752612          26.5976       1.0280  \n",
      "233        390757          41.7665       1.0204  \n",
      "\n",
      "[234 rows x 9 columns]\n",
      "\n"
     ]
    }
   ],
   "source": [
    " \n",
    "db_session = database_handler.create_connection('config.json')\n",
    "read_dataset_and_return_as_df(db_session)\n",
    "db_session.commit()\n",
    "\n"
   ]
  },
  {
   "cell_type": "code",
   "execution_count": null,
   "metadata": {},
   "outputs": [],
   "source": []
  }
 ],
 "metadata": {
  "kernelspec": {
   "display_name": "usj_data_project_2023",
   "language": "python",
   "name": "python3"
  },
  "language_info": {
   "codemirror_mode": {
    "name": "ipython",
    "version": 3
   },
   "file_extension": ".py",
   "mimetype": "text/x-python",
   "name": "python",
   "nbconvert_exporter": "python",
   "pygments_lexer": "ipython3",
   "version": "3.9.18"
  }
 },
 "nbformat": 4,
 "nbformat_minor": 2
}
