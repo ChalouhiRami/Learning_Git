{
 "cells": [
  {
   "cell_type": "code",
   "execution_count": 1,
   "metadata": {},
   "outputs": [],
   "source": [
    "import pandas as pd\n",
    "from error_handler import configure_logger\n",
    "from panda_transform import remove_duplicates, remove_nulls, custom_transformations\n",
    "from data_handler import read_data_as_dataframe, return_create_statement_from_df, return_insert_and_ex_statement_from_df\n",
    "from database_handler import create_connection, close_connection, execute_query\n",
    "import filehandler\n",
    "import prehook"
   ]
  },
  {
   "cell_type": "code",
   "execution_count": 2,
   "metadata": {},
   "outputs": [
    {
     "name": "stdout",
     "output_type": "stream",
     "text": [
      "['Year', 'Disaster_Subgroup', 'Disaster_Type', 'Disaster_Subtype', 'country', 'Code', 'Prevalence_of_undernourishment_percentage_of_population']\n"
     ]
    }
   ],
   "source": [
    "#file_type = \"csv\"\n",
    "#file_config = \"malnourishment.csv\"\n",
    "#data = read_data_as_dataframe(file_type, file_config)\n",
    "#data = pd.read_csv(file_config)\n",
    "#column_names = data.columns.tolist()\n",
    "\n",
    "# Print the column names\n",
    "#print(column_names)\n",
    "\n",
    "# should this be done in the staging table or here?\n",
    "#data = remove_duplicates(data, subset=['column_name'])\n",
    "#data = remove_nulls(data, columns=['column_name'])\n",
    "#data = custom_transformations(data)"
   ]
  },
  {
   "cell_type": "code",
   "execution_count": 5,
   "metadata": {},
   "outputs": [
    {
     "name": "stdout",
     "output_type": "stream",
     "text": [
      "csv_list: ['C:/Datasets\\\\acces_to_water_per_country_2000_2020.csv', 'C:/Datasets\\\\avg_temperature_per_city.csv', 'C:/Datasets\\\\density_per_city.csv', 'C:/Datasets\\\\gdp_per_country.csv', 'C:/Datasets\\\\malnourishment__per_country.csv', 'C:/Datasets\\\\population_per_country.csv', 'C:/Datasets\\\\valuable_country_data.csv']\n"
     ]
    }
   ],
   "source": [
    "configure_logger('error_log.txt')\n",
    "config_file = \"config.json\"\n",
    "db_session = create_connection(config_file)\n",
    "\n",
    "# if db_session is None:\n",
    "#     print(\"Failed to establish a database connection.\")\n",
    "#     exit()\n",
    "\n",
    "# #try:\n",
    "# config_data = filehandler.read_config(config_file)\n",
    "\n",
    "    # staging table for each csv?\n",
    "#schema_name = config_data.get(\"db_name\")\n",
    "#staging_table_name = \"staging_table\"  \n",
    "\n",
    "#create_table_statement = return_create_and_ex_statement_from_df(data, schema_name, staging_table_name, db_session)\n",
    "\n",
    "#print(f\"Executing CREATE TABLE statement: {create_table_statement}\")\n",
    "\n",
    " \n",
    "#execute_query(db_session, create_table_statement)\n",
    "  \n",
    " \n",
    "#insert_statements = return_insert_and_ex_statement_from_df(data, schema_name, staging_table_name, db_session)\n",
    "\n",
    "#for insert_statement in insert_statements:\n",
    " #   print(f\"Executing INSERT statement: {insert_statement}\")\n",
    "     \n",
    "  #  execute_query(db_session, insert_statement)\n",
    "\n",
    "#db_session.commit()\n",
    "#print(\"Data successfully loaded into the staging table.\")\n",
    "#prehook.execute_prehook_statements(db_session)\n",
    "#csv_list = prehook.generate_list_of_csv_sources()\n",
    "\n",
    "#prehook.create_sql_staging_tables(db_session,csv_list)\n",
    "\n",
    "\n",
    "prehook.create_etl_watermark(db_session)\n",
    "\n",
    "\n",
    "#should i use the commit here or in the prehook.create_etl_watermark?\n",
    "db_session.commit()\n",
    "    \n",
    "    \n",
    " "
   ]
  },
  {
   "cell_type": "markdown",
   "metadata": {},
   "source": []
  }
 ],
 "metadata": {
  "kernelspec": {
   "display_name": "Python 3",
   "language": "python",
   "name": "python3"
  },
  "language_info": {
   "codemirror_mode": {
    "name": "ipython",
    "version": 3
   },
   "file_extension": ".py",
   "mimetype": "text/x-python",
   "name": "python",
   "nbconvert_exporter": "python",
   "pygments_lexer": "ipython3",
   "version": "3.9.18"
  }
 },
 "nbformat": 4,
 "nbformat_minor": 2
}
