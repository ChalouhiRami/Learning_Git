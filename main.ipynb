{
 "cells": [
  {
   "cell_type": "code",
   "execution_count": 1,
   "metadata": {},
   "outputs": [],
   "source": [
    "from hook import execute\n",
    "import  database_handler  \n",
    "import pandas as pd\n",
    "import lookups\n",
    "import data_handler\n",
    "import prehook\n",
    "\n",
    " \n"
   ]
  },
  {
   "cell_type": "code",
   "execution_count": 4,
   "metadata": {},
   "outputs": [
    {
     "name": "stdout",
     "output_type": "stream",
     "text": [
      "Last Update Timestamp: None\n"
     ]
    }
   ],
   "source": [
    " schema_name = 'dwreporting'\n",
    "watermark_table_name = 'etl_watermark'\n",
    "full_table_name = 'stg_disaster_magnitude_manual'\n",
    "\n",
    "db_session = database_handler.create_connection('config.json')\n",
    "\n",
    "last_update_query = 'select * from dwreporting.stg_countries_kaggle'\n",
    "     \n",
    "    \n",
    "last_update_timestamp = database_handler.execute_query(db_session, last_update_query)\n",
    " \n",
    "print(f\"Last Update Timestamp: {last_update_timestamp}\")\n",
    "\n"
   ]
  }
 ],
 "metadata": {
  "kernelspec": {
   "display_name": "usj_data_project_2023",
   "language": "python",
   "name": "python3"
  },
  "language_info": {
   "codemirror_mode": {
    "name": "ipython",
    "version": 3
   },
   "file_extension": ".py",
   "mimetype": "text/x-python",
   "name": "python",
   "nbconvert_exporter": "python",
   "pygments_lexer": "ipython3",
   "version": "3.12.0"
  }
 },
 "nbformat": 4,
 "nbformat_minor": 2
}
