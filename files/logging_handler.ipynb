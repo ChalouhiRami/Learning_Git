{
 "cells": [
  {
   "cell_type": "code",
   "execution_count": 1,
   "metadata": {},
   "outputs": [],
   "source": [
    "import logging\n",
    "\n",
    " \n",
    "logger = logging.getLogger('natural_disasters_analysis')\n",
    "\n",
    "logger.setLevel(logging.DEBUG)\n",
    " \n",
    "log_file = 'natural_disasters.log'\n",
    "file_handler = logging.FileHandler(log_file)\n",
    "\n",
    " \n",
    "formatter = logging.Formatter('%(asctime)s - %(name)s - %(levelname)s - %(message)s')\n",
    "file_handler.setFormatter(formatter)\n",
    " \n",
    "logger.addHandler(file_handler)\n",
    "\n",
    "logger.debug('Debug message: This is for detailed debugging.')\n",
    "logger.info('Info message: This is for general information.')\n",
    "logger.warning('Warning message: This is a warning about potential issues.')\n",
    "logger.error('Error message: An error occurred in the program.')\n",
    "logger.critical('Critical message: This is a critical issue that requires immediate attention.')\n",
    "\n",
    " \n",
    "file_handler.close()"
   ]
  }
 ],
 "metadata": {
  "kernelspec": {
   "display_name": "usj_data_project_2023",
   "language": "python",
   "name": "python3"
  },
  "language_info": {
   "codemirror_mode": {
    "name": "ipython",
    "version": 3
   },
   "file_extension": ".py",
   "mimetype": "text/x-python",
   "name": "python",
   "nbconvert_exporter": "python",
   "pygments_lexer": "ipython3",
   "version": "3.9.18"
  }
 },
 "nbformat": 4,
 "nbformat_minor": 2
}
