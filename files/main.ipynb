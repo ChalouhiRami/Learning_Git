{
 "cells": [
  {
   "cell_type": "code",
   "execution_count": 1,
   "metadata": {},
   "outputs": [
    {
     "ename": "KeyboardInterrupt",
     "evalue": "",
     "output_type": "error",
     "traceback": [
      "\u001b[1;31m---------------------------------------------------------------------------\u001b[0m",
      "\u001b[1;31mKeyboardInterrupt\u001b[0m                         Traceback (most recent call last)",
      "\u001b[1;32mc:\\Users\\popsmokkr\\Desktop\\data_eng\\main.ipynb Cell 1\u001b[0m line \u001b[0;36m1\n\u001b[1;32m----> <a href='vscode-notebook-cell:/c%3A/Users/popsmokkr/Desktop/data_eng/main.ipynb#W0sZmlsZQ%3D%3D?line=0'>1</a>\u001b[0m \u001b[39mimport\u001b[39;00m \u001b[39mpandas\u001b[39;00m \u001b[39mas\u001b[39;00m \u001b[39mpd\u001b[39;00m \n\u001b[0;32m      <a href='vscode-notebook-cell:/c%3A/Users/popsmokkr/Desktop/data_eng/main.ipynb#W0sZmlsZQ%3D%3D?line=1'>2</a>\u001b[0m \u001b[39mimport\u001b[39;00m \u001b[39mpsycopg2\u001b[39;00m \n",
      "File \u001b[1;32md:\\anacondass\\envs\\usj_data_project_2023\\lib\\site-packages\\pandas\\__init__.py:73\u001b[0m\n\u001b[0;32m     70\u001b[0m \u001b[39m# let init-time option registration happen\u001b[39;00m\n\u001b[0;32m     71\u001b[0m \u001b[39mimport\u001b[39;00m \u001b[39mpandas\u001b[39;00m\u001b[39m.\u001b[39;00m\u001b[39mcore\u001b[39;00m\u001b[39m.\u001b[39;00m\u001b[39mconfig_init\u001b[39;00m  \u001b[39m# pyright: ignore[reportUnusedImport] # noqa: F401\u001b[39;00m\n\u001b[1;32m---> 73\u001b[0m \u001b[39mfrom\u001b[39;00m \u001b[39mpandas\u001b[39;00m\u001b[39m.\u001b[39;00m\u001b[39mcore\u001b[39;00m\u001b[39m.\u001b[39;00m\u001b[39mapi\u001b[39;00m \u001b[39mimport\u001b[39;00m (\n\u001b[0;32m     74\u001b[0m     \u001b[39m# dtype\u001b[39;00m\n\u001b[0;32m     75\u001b[0m     ArrowDtype,\n\u001b[0;32m     76\u001b[0m     Int8Dtype,\n\u001b[0;32m     77\u001b[0m     Int16Dtype,\n\u001b[0;32m     78\u001b[0m     Int32Dtype,\n\u001b[0;32m     79\u001b[0m     Int64Dtype,\n\u001b[0;32m     80\u001b[0m     UInt8Dtype,\n\u001b[0;32m     81\u001b[0m     UInt16Dtype,\n\u001b[0;32m     82\u001b[0m     UInt32Dtype,\n\u001b[0;32m     83\u001b[0m     UInt64Dtype,\n\u001b[0;32m     84\u001b[0m     Float32Dtype,\n\u001b[0;32m     85\u001b[0m     Float64Dtype,\n\u001b[0;32m     86\u001b[0m     CategoricalDtype,\n\u001b[0;32m     87\u001b[0m     PeriodDtype,\n\u001b[0;32m     88\u001b[0m     IntervalDtype,\n\u001b[0;32m     89\u001b[0m     DatetimeTZDtype,\n\u001b[0;32m     90\u001b[0m     StringDtype,\n\u001b[0;32m     91\u001b[0m     BooleanDtype,\n\u001b[0;32m     92\u001b[0m     \u001b[39m# missing\u001b[39;00m\n\u001b[0;32m     93\u001b[0m     NA,\n\u001b[0;32m     94\u001b[0m     isna,\n\u001b[0;32m     95\u001b[0m     isnull,\n\u001b[0;32m     96\u001b[0m     notna,\n\u001b[0;32m     97\u001b[0m     notnull,\n\u001b[0;32m     98\u001b[0m     \u001b[39m# indexes\u001b[39;00m\n\u001b[0;32m     99\u001b[0m     Index,\n\u001b[0;32m    100\u001b[0m     CategoricalIndex,\n\u001b[0;32m    101\u001b[0m     RangeIndex,\n\u001b[0;32m    102\u001b[0m     MultiIndex,\n\u001b[0;32m    103\u001b[0m     IntervalIndex,\n\u001b[0;32m    104\u001b[0m     TimedeltaIndex,\n\u001b[0;32m    105\u001b[0m     DatetimeIndex,\n\u001b[0;32m    106\u001b[0m     PeriodIndex,\n\u001b[0;32m    107\u001b[0m     IndexSlice,\n\u001b[0;32m    108\u001b[0m     \u001b[39m# tseries\u001b[39;00m\n\u001b[0;32m    109\u001b[0m     NaT,\n\u001b[0;32m    110\u001b[0m     Period,\n\u001b[0;32m    111\u001b[0m     period_range,\n\u001b[0;32m    112\u001b[0m     Timedelta,\n\u001b[0;32m    113\u001b[0m     timedelta_range,\n\u001b[0;32m    114\u001b[0m     Timestamp,\n\u001b[0;32m    115\u001b[0m     date_range,\n\u001b[0;32m    116\u001b[0m     bdate_range,\n\u001b[0;32m    117\u001b[0m     Interval,\n\u001b[0;32m    118\u001b[0m     interval_range,\n\u001b[0;32m    119\u001b[0m     DateOffset,\n\u001b[0;32m    120\u001b[0m     \u001b[39m# conversion\u001b[39;00m\n\u001b[0;32m    121\u001b[0m     to_numeric,\n\u001b[0;32m    122\u001b[0m     to_datetime,\n\u001b[0;32m    123\u001b[0m     to_timedelta,\n\u001b[0;32m    124\u001b[0m     \u001b[39m# misc\u001b[39;00m\n\u001b[0;32m    125\u001b[0m     Flags,\n\u001b[0;32m    126\u001b[0m     Grouper,\n\u001b[0;32m    127\u001b[0m     factorize,\n\u001b[0;32m    128\u001b[0m     unique,\n\u001b[0;32m    129\u001b[0m     value_counts,\n\u001b[0;32m    130\u001b[0m     NamedAgg,\n\u001b[0;32m    131\u001b[0m     array,\n\u001b[0;32m    132\u001b[0m     Categorical,\n\u001b[0;32m    133\u001b[0m     set_eng_float_format,\n\u001b[0;32m    134\u001b[0m     Series,\n\u001b[0;32m    135\u001b[0m     DataFrame,\n\u001b[0;32m    136\u001b[0m )\n\u001b[0;32m    138\u001b[0m \u001b[39mfrom\u001b[39;00m \u001b[39mpandas\u001b[39;00m\u001b[39m.\u001b[39;00m\u001b[39mcore\u001b[39;00m\u001b[39m.\u001b[39;00m\u001b[39mdtypes\u001b[39;00m\u001b[39m.\u001b[39;00m\u001b[39mdtypes\u001b[39;00m \u001b[39mimport\u001b[39;00m SparseDtype\n\u001b[0;32m    140\u001b[0m \u001b[39mfrom\u001b[39;00m \u001b[39mpandas\u001b[39;00m\u001b[39m.\u001b[39;00m\u001b[39mtseries\u001b[39;00m\u001b[39m.\u001b[39;00m\u001b[39mapi\u001b[39;00m \u001b[39mimport\u001b[39;00m infer_freq\n",
      "File \u001b[1;32md:\\anacondass\\envs\\usj_data_project_2023\\lib\\site-packages\\pandas\\core\\api.py:9\u001b[0m\n\u001b[0;32m      1\u001b[0m \u001b[39mfrom\u001b[39;00m \u001b[39mpandas\u001b[39;00m\u001b[39m.\u001b[39;00m\u001b[39m_libs\u001b[39;00m \u001b[39mimport\u001b[39;00m (\n\u001b[0;32m      2\u001b[0m     NaT,\n\u001b[0;32m      3\u001b[0m     Period,\n\u001b[0;32m      4\u001b[0m     Timedelta,\n\u001b[0;32m      5\u001b[0m     Timestamp,\n\u001b[0;32m      6\u001b[0m )\n\u001b[0;32m      7\u001b[0m \u001b[39mfrom\u001b[39;00m \u001b[39mpandas\u001b[39;00m\u001b[39m.\u001b[39;00m\u001b[39m_libs\u001b[39;00m\u001b[39m.\u001b[39;00m\u001b[39mmissing\u001b[39;00m \u001b[39mimport\u001b[39;00m NA\n\u001b[1;32m----> 9\u001b[0m \u001b[39mfrom\u001b[39;00m \u001b[39mpandas\u001b[39;00m\u001b[39m.\u001b[39;00m\u001b[39mcore\u001b[39;00m\u001b[39m.\u001b[39;00m\u001b[39mdtypes\u001b[39;00m\u001b[39m.\u001b[39;00m\u001b[39mdtypes\u001b[39;00m \u001b[39mimport\u001b[39;00m (\n\u001b[0;32m     10\u001b[0m     ArrowDtype,\n\u001b[0;32m     11\u001b[0m     CategoricalDtype,\n\u001b[0;32m     12\u001b[0m     DatetimeTZDtype,\n\u001b[0;32m     13\u001b[0m     IntervalDtype,\n\u001b[0;32m     14\u001b[0m     PeriodDtype,\n\u001b[0;32m     15\u001b[0m )\n\u001b[0;32m     16\u001b[0m \u001b[39mfrom\u001b[39;00m \u001b[39mpandas\u001b[39;00m\u001b[39m.\u001b[39;00m\u001b[39mcore\u001b[39;00m\u001b[39m.\u001b[39;00m\u001b[39mdtypes\u001b[39;00m\u001b[39m.\u001b[39;00m\u001b[39mmissing\u001b[39;00m \u001b[39mimport\u001b[39;00m (\n\u001b[0;32m     17\u001b[0m     isna,\n\u001b[0;32m     18\u001b[0m     isnull,\n\u001b[0;32m     19\u001b[0m     notna,\n\u001b[0;32m     20\u001b[0m     notnull,\n\u001b[0;32m     21\u001b[0m )\n\u001b[0;32m     23\u001b[0m \u001b[39mfrom\u001b[39;00m \u001b[39mpandas\u001b[39;00m\u001b[39m.\u001b[39;00m\u001b[39mcore\u001b[39;00m\u001b[39m.\u001b[39;00m\u001b[39malgorithms\u001b[39;00m \u001b[39mimport\u001b[39;00m (\n\u001b[0;32m     24\u001b[0m     factorize,\n\u001b[0;32m     25\u001b[0m     unique,\n\u001b[0;32m     26\u001b[0m     value_counts,\n\u001b[0;32m     27\u001b[0m )\n",
      "File \u001b[1;32m<frozen importlib._bootstrap>:1007\u001b[0m, in \u001b[0;36m_find_and_load\u001b[1;34m(name, import_)\u001b[0m\n",
      "File \u001b[1;32m<frozen importlib._bootstrap>:986\u001b[0m, in \u001b[0;36m_find_and_load_unlocked\u001b[1;34m(name, import_)\u001b[0m\n",
      "File \u001b[1;32m<frozen importlib._bootstrap>:680\u001b[0m, in \u001b[0;36m_load_unlocked\u001b[1;34m(spec)\u001b[0m\n",
      "File \u001b[1;32m<frozen importlib._bootstrap_external>:846\u001b[0m, in \u001b[0;36mexec_module\u001b[1;34m(self, module)\u001b[0m\n",
      "File \u001b[1;32m<frozen importlib._bootstrap_external>:941\u001b[0m, in \u001b[0;36mget_code\u001b[1;34m(self, fullname)\u001b[0m\n",
      "File \u001b[1;32m<frozen importlib._bootstrap_external>:1039\u001b[0m, in \u001b[0;36mget_data\u001b[1;34m(self, path)\u001b[0m\n",
      "\u001b[1;31mKeyboardInterrupt\u001b[0m: "
     ]
    }
   ],
   "source": [
    "import pandas as pd \n",
    "import psycopg2 \n"
   ]
  },
  {
   "cell_type": "code",
   "execution_count": null,
   "metadata": {},
   "outputs": [
    {
     "name": "stdout",
     "output_type": "stream",
     "text": [
      "(1, 'Rami')\n",
      "(2, 'Felix')\n",
      "(3, 'Elie')\n",
      "(4, 'Said')\n"
     ]
    }
   ],
   "source": [
    "hostname ='localhost'\n",
    "port_id = 5433 \n",
    "Database = 'Pluto'\n",
    "pwd = 'Laptop2018'\n",
    "username= 'postgres'\n",
    "try:\n",
    "\n",
    "    connection = psycopg2.connect(\n",
    "    host= hostname,\n",
    "    dbname = Database,\n",
    "    password = pwd,\n",
    "    user = username,\n",
    "    port= port_id )\n",
    "    cursor =connection.cursor()\n",
    "    cursor.execute(\"Select * from test_table\")\n",
    "    \n",
    "    fetch = cursor.fetchall() \n",
    "    for item in fetch : \n",
    "        print(item )\n",
    "    \n",
    "except Exception as error:\n",
    "    print(error)\n",
    "finally:\n",
    "    if connection:\n",
    "        cursor.close()\n",
    "        connection.close()\n",
    "\n",
    " "
   ]
  },
  {
   "cell_type": "code",
   "execution_count": null,
   "metadata": {},
   "outputs": [],
   "source": [
    "import pandas as pd\n",
    "import lookups\n",
    "import error_handler\n",
    "\n",
    "def read_file(file_path):\n",
    "    try:\n",
    "\n",
    "        if file_path.endswith(lookups.Csv.value):\n",
    "           return pd.read_csv(file_path)\n",
    "        if file_path.endswith(lookups.Xlsx.value):\n",
    "            return pd.read_excel(file_path)\n",
    "    \n",
    "        \n",
    "    except Exception as error:\n",
    "        prefix = lookups.ErrorHandling.Data_handler_error.value\n",
    "        suffix = str(error)\n",
    "        error_handler.print_error(suffix,prefix)\n",
    "        return None"
   ]
  },
  {
   "cell_type": "code",
   "execution_count": 3,
   "metadata": {},
   "outputs": [],
   "source": [
    "import psycopg2\n",
    " \n",
    "import lookups\n",
    " \n",
    "import json\n",
    "\n",
    "\n",
    "def create_connection(config_file):\n",
    "    db_session = None\n",
    "    try:\n",
    "        try:\n",
    "            with open(config_file, \"r\") as file:\n",
    "                config_data = json.load(file)\n",
    "\n",
    "                db_host = config_data[\"db_host\"]\n",
    "                db_name = config_data[\"db_name\"]\n",
    "                db_user = config_data[\"db_user\"]\n",
    "                db_pass = config_data[\"db_pass\"]\n",
    "        except FileNotFoundError:\n",
    "                print(f\"Configuration file '{config_file}' not found.\")\n",
    "                return None   \n",
    "\n",
    "        \n",
    "        db_session = psycopg2.connect(\n",
    "                    host=db_host,\n",
    "                    database=db_name,\n",
    "                    user=db_user,\n",
    "                    password=db_pass,\n",
    "                    port=5433\n",
    "                )\n",
    "    except Exception as error:\n",
    "        prefix = lookups.ErrorHandling.DB_CONNECTION_ERROR.value\n",
    "        suffix = str(error)\n",
    "        error_handler.print_error(suffix, prefix)\n",
    "    finally:\n",
    "        return db_session\n",
    "\n",
    "\n",
    "\n",
    "\n",
    "def execute_query(config_file, sql_query):\n",
    "    \n",
    "    connection = create_connection(config_file)\n",
    "\n",
    "    if connection is not None:\n",
    "        try:\n",
    "             \n",
    "            cursor = connection.cursor()\n",
    " \n",
    "            cursor.execute(sql_query)\n",
    "\n",
    "            \n",
    "            result = cursor.fetchall()\n",
    "            return result\n",
    "\n",
    "        except Exception as error:\n",
    "             \n",
    "            prefix = lookups.ErrorHandling.DB_QUERY_ERROR.value\n",
    "            suffix = str(error)\n",
    "            error_handler.print_error(suffix, prefix)\n",
    "        finally:\n",
    "         \n",
    "            cursor.close()\n",
    "            connection.close()\n",
    "    else:\n",
    "         \n",
    "        print(\" Errror , Cannot execute query.\")\n",
    "\n",
    " \n",
    "\n",
    "    \n",
    "\n"
   ]
  },
  {
   "cell_type": "code",
   "execution_count": 5,
   "metadata": {},
   "outputs": [
    {
     "name": "stdout",
     "output_type": "stream",
     "text": [
      "(1, 'Rami')\n",
      "(2, 'Felix')\n",
      "(3, 'Elie')\n",
      "(4, 'Said')\n",
      "(5, 'Assaad')\n"
     ]
    }
   ],
   "source": [
    "\n",
    "\n",
    "\n",
    "\n",
    "config_file = \"config.json\"\n",
    "sql_query = \"SELECT * FROM test_table\"   \n",
    "result = execute_query(config_file, sql_query)\n",
    "\n",
    "if result:\n",
    "    for row in result:\n",
    "        print(row)  \n",
    "else:\n",
    "    print(\"Query did not return any results or encountered an error.\")\n"
   ]
  }
 ],
 "metadata": {
  "kernelspec": {
   "display_name": "usj_data_project_2023",
   "language": "python",
   "name": "python3"
  },
  "language_info": {
   "codemirror_mode": {
    "name": "ipython",
    "version": 3
   },
   "file_extension": ".py",
   "mimetype": "text/x-python",
   "name": "python",
   "nbconvert_exporter": "python",
   "pygments_lexer": "ipython3",
   "version": "3.9.18"
  },
  "orig_nbformat": 4
 },
 "nbformat": 4,
 "nbformat_minor": 2
}
