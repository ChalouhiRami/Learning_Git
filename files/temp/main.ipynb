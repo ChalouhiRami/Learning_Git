{
 "cells": [
  {
   "cell_type": "code",
   "execution_count": 4,
   "metadata": {},
   "outputs": [],
   "source": [
    "\n",
    "import pandas as pd \n",
    "import psycopg2\n",
    "from logging_handler import configure_logger\n",
    "from execute import execute_query\n",
    "from panda_transform import remove_duplicates, remove_nulls, custom_transformations\n"
   ]
  },
  {
   "cell_type": "code",
   "execution_count": null,
   "metadata": {},
   "outputs": [],
   "source": [
    "data = pd.read_csv('your_data.csv')\n",
    "\n",
    "data = remove_duplicates(data, subset=['column_name'])\n",
    "data = remove_nulls(data, columns=['column_name'])\n",
    "data = custom_transformations(data)"
   ]
  },
  {
   "cell_type": "code",
   "execution_count": 5,
   "metadata": {},
   "outputs": [
    {
     "name": "stdout",
     "output_type": "stream",
     "text": [
      "2023-10-12 21:06:43.780346 - Failed to connect to database (database_handler.py) ##### connection to server at \"localhost\" (::1), port 5433 failed: Connection refused (0x0000274D/10061)\n",
      "\tIs the server running on that host and accepting TCP/IP connections?\n",
      "connection to server at \"localhost\" (127.0.0.1), port 5433 failed: Connection refused (0x0000274D/10061)\n",
      "\tIs the server running on that host and accepting TCP/IP connections?\n",
      "\n",
      " Errror , Cannot execute query.\n",
      "Query did not return any results or encountered an error.\n"
     ]
    }
   ],
   "source": [
    "configure_logger('error_log.txt')\n",
    "config_file = \"config.json\"\n",
    "sql_query = \"SELECT * FROM test_table\"   \n",
    "result = execute_query(config_file, sql_query)\n",
    "\n",
    "if result:\n",
    "    for row in result:\n",
    "        print(row)  \n",
    "else:\n",
    "    print(\"Query did not return any results or encountered an error.\")\n",
    "\n"
   ]
  }
 ],
 "metadata": {
  "kernelspec": {
   "display_name": "Python 3",
   "language": "python",
   "name": "python3"
  },
  "language_info": {
   "codemirror_mode": {
    "name": "ipython",
    "version": 3
   },
   "file_extension": ".py",
   "mimetype": "text/x-python",
   "name": "python",
   "nbconvert_exporter": "python",
   "pygments_lexer": "ipython3",
   "version": "3.9.13"
  }
 },
 "nbformat": 4,
 "nbformat_minor": 2
}
